{
 "cells": [
  {
   "cell_type": "code",
   "execution_count": 2,
   "metadata": {
    "collapsed": true
   },
   "outputs": [],
   "source": [
    "%matplotlib notebook\n",
    "import numpy as np\n",
    "import matplotlib.pyplot as plt"
   ]
  },
  {
   "cell_type": "code",
   "execution_count": 3,
   "metadata": {
    "collapsed": true
   },
   "outputs": [],
   "source": [
    "class CascadeAverage:\n",
    "    def __init__(self, window_pow, casc=2):\n",
    "        self.casc = casc\n",
    "        self.window_pow = window_pow\n",
    "        self.window = 2 ** window_pow\n",
    "        self.group_delay = int((self.window - 1) * casc / 2)\n",
    "\n",
    "    def abstract(self, x):\n",
    "        import numpy as np\n",
    "        c = np.ones(self.window) / self.window\n",
    "\n",
    "        # multiple pass of average filter is equal to filter kernels convolced togather\n",
    "        c2 = c[:]\n",
    "        for _ in range(self.casc - 1):\n",
    "            c2 = np.convolve(c2, c, mode='full')\n",
    "\n",
    "        p = np.convolve(x, c2, mode='full')\n",
    "        out = x - p[self.group_delay:-self.group_delay]\n",
    "\n",
    "        return out\n",
    "    \n",
    "    def abstract2(self, x):\n",
    "        ret = np.convolve(x, np.ones((self.window,)) / self.window, mode='full')\n",
    "        ret = x - ret[:len(x)]\n",
    "        return ret\n",
    "        # return ret[:-self.window + 1]"
   ]
  },
  {
   "cell_type": "code",
   "execution_count": 4,
   "metadata": {
    "collapsed": false
   },
   "outputs": [
    {
     "data": {
      "text/plain": [
       "<IPython.core.display.Javascript object>"
      ]
     },
     "execution_count": 0,
     "metadata": {},
     "output_type": "execute_result"
    },
    {
     "data": {
      "text/html": [
       "<div id='daf0d0cf-814c-4f9b-a74d-7e60f2bf966e'></div>"
      ],
      "text/plain": [
       "<div id='daf0d0cf-814c-4f9b-a74d-7e60f2bf966e'></div>"
      ]
     },
     "execution_count": 0,
     "metadata": {},
     "output_type": "execute_result"
    }
   ],
   "source": [
    "from scipy import signal\n",
    "\n",
    "inp = np.random.uniform(-1, 1, 2**20)\n",
    "\n",
    "av = CascadeAverage(7, 2)\n",
    "x_good = av.abstract(inp)\n",
    "x_bad = av.abstract2(inp)\n",
    "\n",
    "f, Pxx_den = signal.welch(x_good, detrend=None)\n",
    "plt.semilogy(f, Pxx_den)\n",
    "# plt.ylim([1e-1, 1e-2])\n",
    "plt.grid()\n",
    "plt.show()\n",
    "\n",
    "f, Pxx_den = signal.welch(x_bad, detrend=None)\n",
    "plt.semilogy(f, Pxx_den)\n",
    "plt.grid()\n",
    "plt.show()\n",
    "\n",
    "f, Pxx_den = signal.welch(inp, detrend=None)\n",
    "# plt.plot(Pxx_den)\n",
    "plt.semilogy(f, Pxx_den)\n",
    "plt.grid()\n",
    "plt.show()"
   ]
  },
  {
   "cell_type": "code",
   "execution_count": null,
   "metadata": {
    "collapsed": true
   },
   "outputs": [],
   "source": [
    ""
   ]
  }
 ],
 "metadata": {
  "anaconda-cloud": {},
  "kernelspec": {
   "display_name": "Python [conda root]",
   "language": "python",
   "name": "conda-root-py"
  },
  "language_info": {
   "codemirror_mode": {
    "name": "ipython",
    "version": 3.0
   },
   "file_extension": ".py",
   "mimetype": "text/x-python",
   "name": "python",
   "nbconvert_exporter": "python",
   "pygments_lexer": "ipython3",
   "version": "3.5.2"
  }
 },
 "nbformat": 4,
 "nbformat_minor": 0
}