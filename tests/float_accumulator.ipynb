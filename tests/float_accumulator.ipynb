{
 "cells": [
  {
   "cell_type": "code",
   "execution_count": 1,
   "metadata": {},
   "outputs": [],
   "source": [
    "%load_ext autoreload\n",
    "%autoreload 2\n",
    "\n",
    "from scipy import signal\n",
    "import numpy as np\n",
    "from scipy.fftpack import fft, ifft\n",
    "import pandas as pd\n",
    "\n",
    "import matplotlib\n",
    "matplotlib.use('nbagg')\n",
    "from pylab import rcParams\n",
    "rcParams['figure.figsize'] = 9, 4\n",
    "import matplotlib.pyplot as plt\n",
    "import scipy\n",
    "\n",
    "\n",
    "from pyha import Hardware, simulate, sims_close, Complex, resize, hardware_sims_equal\n",
    "from pyha.common.util import *\n",
    "from pyha.common.float import *"
   ]
  },
  {
   "cell_type": "code",
   "execution_count": 2,
   "metadata": {},
   "outputs": [],
   "source": [
    "class Accumulator(Hardware):\n",
    "    def __init__(self):\n",
    "        self.DELAY = 1\n",
    "        self.acc = Float(0.0)\n",
    "\n",
    "    def main(self, x):\n",
    "        self.acc += x\n",
    "        return self.acc\n",
    "\n",
    "    def model_main(self, x):\n",
    "        return np.cumsum(x)"
   ]
  },
  {
   "cell_type": "code",
   "execution_count": null,
   "metadata": {},
   "outputs": [],
   "source": [
    "# np.random.seed(0)\n",
    "# inp = abs(np.random.normal(size=1024*4*4*4*2))\n",
    "inp = np.random.normal(size=1024*4*4*4*2*4)\n",
    "\n",
    "# inp = np.random.uniform(0, 1, size=1024*8*2)\n",
    "\n",
    "# inp = [0.25] * 1024 * 8"
   ]
  },
  {
   "cell_type": "code",
   "execution_count": null,
   "metadata": {},
   "outputs": [
    {
     "name": "stderr",
     "output_type": "stream",
     "text": [
      "INFO:sim:Converting model to hardware types ...\n",
      "INFO:sim:Running \"MODEL\" simulation...\n",
      "INFO:sim:OK!\n",
      "INFO:sim:Converting simulation inputs to hardware types...\n",
      "INFO:sim:Running \"PYHA\" simulation...\n"
     ]
    }
   ],
   "source": [
    "results = {}\n",
    "\n",
    "with force_format(radix=32, exponent_bits=3, fractional_bits=14):\n",
    "    dut = Accumulator()\n",
    "    sims = simulate(dut, inp, input_types=[Float()], simulations=['MODEL', 'PYHA'])\n",
    "    results['Float64'] = np.array([float(x) for x in sims['MODEL']])\n",
    "    results['Radix32'] = np.array([float(x) for x in sims['PYHA']])\n",
    "\n",
    "with force_format(radix=16, exponent_bits=4, fractional_bits=13):\n",
    "    dut = Accumulator()\n",
    "    sims = simulate(dut, inp, input_types=[Float()], simulations=['PYHA'])\n",
    "    results['Radix16'] = np.array([float(x) for x in sims['PYHA']])\n",
    "\n",
    "with force_format(float16_mode=True):\n",
    "    dut = Accumulator()\n",
    "    sims = simulate(dut, inp, input_types=[Float()], simulations=['PYHA'])\n",
    "    results['Float16'] = np.array([float(x) for x in sims['PYHA']])\n"
   ]
  },
  {
   "cell_type": "code",
   "execution_count": null,
   "metadata": {},
   "outputs": [],
   "source": [
    "for key, val in results.items():\n",
    "    plt.plot(val, label=key)\n",
    "show_plot()"
   ]
  },
  {
   "cell_type": "code",
   "execution_count": null,
   "metadata": {},
   "outputs": [],
   "source": [
    "for key, val in results.items():\n",
    "    plt.plot(results['Float64'] - val, label=key)\n",
    "plt.legend()\n",
    "plt.grid()\n",
    "plt.show()\n",
    "\n",
    "for key, val in results.items():\n",
    "    print(f'{key} SNR: {snr(results[\"Float64\"], val)} dB')\n",
    "#     plt.plot(results['Float64'] - val, label=key)"
   ]
  }
 ],
 "metadata": {
  "kernelspec": {
   "display_name": "Python 3",
   "language": "python",
   "name": "python3"
  },
  "language_info": {
   "codemirror_mode": {
    "name": "ipython",
    "version": 3
   },
   "file_extension": ".py",
   "mimetype": "text/x-python",
   "name": "python",
   "nbconvert_exporter": "python",
   "pygments_lexer": "ipython3",
   "version": "3.6.5"
  }
 },
 "nbformat": 4,
 "nbformat_minor": 1
}
