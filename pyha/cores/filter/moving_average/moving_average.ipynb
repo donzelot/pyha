{
 "cells": [
  {
   "cell_type": "code",
   "execution_count": 1,
   "metadata": {},
   "outputs": [],
   "source": [
    "%%javascript\n",
    "$.getScript('https://kmahelona.github.io/ipython_notebook_goodies/ipython_notebook_toc.js')"
   ]
  },
  {
   "cell_type": "code",
   "execution_count": 2,
   "metadata": {},
   "outputs": [
    {
     "ename": "ImportError",
     "evalue": "cannot import name 'QuartusHelper' from 'pyha.simulation.vhdl_simulation' (/home/gaspar/git/pyha/pyha/simulation/vhdl_simulation.py)",
     "output_type": "error",
     "traceback": [
      "\u001b[0;31m---------------------------------------------\u001b[0m",
      "\u001b[0;31mImportError\u001b[0m Traceback (most recent call last)",
      "\u001b[0;32m<ipython-input-2-a7b813010638>\u001b[0m in \u001b[0;36m<module>\u001b[0;34m()\u001b[0m\n\u001b[1;32m      1\u001b[0m \u001b[0mget_ipython\u001b[0m\u001b[0;34m(\u001b[0m\u001b[0;34m)\u001b[0m\u001b[0;34m.\u001b[0m\u001b[0mrun_line_magic\u001b[0m\u001b[0;34m(\u001b[0m\u001b[0;34m'load_ext'\u001b[0m\u001b[0;34m,\u001b[0m \u001b[0;34m'autoreload'\u001b[0m\u001b[0;34m)\u001b[0m\u001b[0;34m\u001b[0m\u001b[0m\n\u001b[1;32m      2\u001b[0m \u001b[0mget_ipython\u001b[0m\u001b[0;34m(\u001b[0m\u001b[0;34m)\u001b[0m\u001b[0;34m.\u001b[0m\u001b[0mrun_line_magic\u001b[0m\u001b[0;34m(\u001b[0m\u001b[0;34m'autoreload'\u001b[0m\u001b[0;34m,\u001b[0m \u001b[0;34m'2'\u001b[0m\u001b[0;34m)\u001b[0m\u001b[0;34m\u001b[0m\u001b[0m\n\u001b[0;32m----> 3\u001b[0;31m \u001b[0;32mfrom\u001b[0m \u001b[0mpyha\u001b[0m \u001b[0;32mimport\u001b[0m \u001b[0;34m*\u001b[0m\u001b[0;34m\u001b[0m\u001b[0m\n\u001b[0m\u001b[1;32m      4\u001b[0m \u001b[0;32mfrom\u001b[0m \u001b[0mpyha\u001b[0m\u001b[0;34m.\u001b[0m\u001b[0mcores\u001b[0m \u001b[0;32mimport\u001b[0m \u001b[0;34m*\u001b[0m\u001b[0;34m\u001b[0m\u001b[0m\n\u001b[1;32m      5\u001b[0m \u001b[0;32mfrom\u001b[0m \u001b[0mpyha\u001b[0m\u001b[0;34m.\u001b[0m\u001b[0mcores\u001b[0m\u001b[0;34m.\u001b[0m\u001b[0mutil\u001b[0m \u001b[0;32mimport\u001b[0m \u001b[0;34m*\u001b[0m\u001b[0;34m\u001b[0m\u001b[0m\n",
      "\u001b[0;32m~/git/pyha/pyha/__init__.py\u001b[0m in \u001b[0;36m<module>\u001b[0;34m()\u001b[0m\n\u001b[1;32m      8\u001b[0m \u001b[0;32mfrom\u001b[0m \u001b[0;34m.\u001b[0m\u001b[0mcommon\u001b[0m\u001b[0;34m.\u001b[0m\u001b[0mfixed_point\u001b[0m \u001b[0;32mimport\u001b[0m \u001b[0mSfix\u001b[0m\u001b[0;34m,\u001b[0m \u001b[0mscalb\u001b[0m\u001b[0;34m,\u001b[0m \u001b[0mresize\u001b[0m\u001b[0;34m,\u001b[0m \u001b[0mleft_index\u001b[0m\u001b[0;34m,\u001b[0m \u001b[0mright_index\u001b[0m\u001b[0;34m,\u001b[0m \u001b[0mdefault_sfix\u001b[0m\u001b[0;34m\u001b[0m\u001b[0m\n\u001b[1;32m      9\u001b[0m \u001b[0;32mfrom\u001b[0m \u001b[0;34m.\u001b[0m\u001b[0msimulation\u001b[0m\u001b[0;34m.\u001b[0m\u001b[0msimulation_interface\u001b[0m \u001b[0;32mimport\u001b[0m \u001b[0msimulate\u001b[0m\u001b[0;34m,\u001b[0m \u001b[0massert_equals\u001b[0m\u001b[0;34m,\u001b[0m \u001b[0msims_close\u001b[0m\u001b[0;34m,\u001b[0m \u001b[0mhardware_sims_equal\u001b[0m\u001b[0;34m,\u001b[0m \u001b[0massert_simulations_equal\u001b[0m\u001b[0;34m\u001b[0m\u001b[0m\n\u001b[0;32m---> 10\u001b[0;31m \u001b[0;32mfrom\u001b[0m \u001b[0;34m.\u001b[0m\u001b[0msimulation\u001b[0m\u001b[0;34m.\u001b[0m\u001b[0mvhdl_simulation\u001b[0m \u001b[0;32mimport\u001b[0m \u001b[0mQuartusHelper\u001b[0m\u001b[0;34m\u001b[0m\u001b[0m\n\u001b[0m\u001b[1;32m     11\u001b[0m \u001b[0;34m\u001b[0m\u001b[0m\n\u001b[1;32m     12\u001b[0m \u001b[0mredbaron\u001b[0m\u001b[0;34m.\u001b[0m\u001b[0mipython_behavior\u001b[0m \u001b[0;34m=\u001b[0m \u001b[0;32mFalse\u001b[0m\u001b[0;34m\u001b[0m\u001b[0m\n",
      "\u001b[0;31mImportError\u001b[0m: cannot import name 'QuartusHelper' from 'pyha.simulation.vhdl_simulation' (/home/gaspar/git/pyha/pyha/simulation/vhdl_simulation.py)"
     ]
    }
   ],
   "source": [
    "%load_ext autoreload\n",
    "%autoreload 2\n",
    "from pyha import *\n",
    "from pyha.cores import *\n",
    "from pyha.cores.util import *\n",
    "import scipy\n",
    "from scipy import signal\n",
    "import warnings\n",
    "warnings.filterwarnings('ignore') # yolo!\n",
    "import numpy as np\n",
    "from pyha.simulation.simulation import Simulator\n",
    "# GitHub cannot display the Table of Contents!"
   ]
  },
  {
   "cell_type": "markdown",
   "metadata": {},
   "source": [
    "<h1 id=\"tocheading\">Table of Contents</h1>\n",
    "<div id=\"toc\"></div>"
   ]
  },
  {
   "cell_type": "markdown",
   "metadata": {},
   "source": [
    "# Info\n",
    "Works on 18-bit signed fixed-point numbers. Inputs and outputs assumed to be in range of -1 to 1. Outliers are saturated."
   ]
  },
  {
   "cell_type": "markdown",
   "metadata": {},
   "source": [
    "# Examples"
   ]
  },
  {
   "cell_type": "markdown",
   "metadata": {},
   "source": [
    "## Noise removal"
   ]
  },
  {
   "cell_type": "code",
   "execution_count": null,
   "metadata": {},
   "outputs": [],
   "source": [
    "np.random.seed(0)\n",
    "N = 1024\n",
    "t = np.linspace(0,2*2*np.pi,N)\n",
    "signal = 0.8*np.sin(t)\n",
    "noise = 0.1*np.random.normal(size=N)\n",
    "input_signal = signal + noise # noisy input signal\n",
    "\n",
    "dut = MovingAverage(window_len=128) # design we are testing\n",
    "sim = Simulator(dut, trace=True).run(input_signal) # run simulations and gather trace\n",
    "sim.plot_trace()"
   ]
  },
  {
   "cell_type": "markdown",
   "metadata": {},
   "source": [
    "## Frequency response"
   ]
  },
  {
   "cell_type": "code",
   "execution_count": null,
   "metadata": {
    "scrolled": false
   },
   "outputs": [],
   "source": [
    "input_signal = [0.0] * 1024* 4\n",
    "input_signal[0] = 1.0\n",
    "\n",
    "dut = MovingAverage(window_len=128)\n",
    "sim = Simulator(dut, trace=True).run(input_signal)\n",
    "sim.plot_trace(mode={'Input': 'time', 'Output': 'frequency_response'})"
   ]
  },
  {
   "cell_type": "markdown",
   "metadata": {},
   "source": [
    "## Matched filter"
   ]
  },
  {
   "cell_type": "code",
   "execution_count": null,
   "metadata": {},
   "outputs": [],
   "source": [
    "samples_per_bit = 128\n",
    "bits = [1.0, -1.0, 1.0, -1.0, -1.0, 1.0, 1.0, -1.0, 1.0, -1.0, 1.0, -1.0, -1.0, 1.0, 1.0, -1.0]\n",
    "oversample = np.array([[x] * samples_per_bit for x in bits]).flatten()\n",
    "input_signal = (oversample + np.random.normal(size=len(oversample))*0.5) * 0.25\n",
    "\n",
    "dut = MovingAverage(window_len=samples_per_bit)\n",
    "sim = Simulator(dut, trace=True).run(input_signal)\n",
    "sim.plot_trace()"
   ]
  },
  {
   "cell_type": "markdown",
   "metadata": {},
   "source": [
    "# RTL and NETLIST simulations"
   ]
  },
  {
   "cell_type": "code",
   "execution_count": null,
   "metadata": {},
   "outputs": [],
   "source": [
    "# Pyha design can be converted to VHDL after the PYHA simulation has been ran\n",
    "# VHDL sources can be used to run the RTL simulation, in addition NETLIST simulation is supported (after Quartus mapper)\n",
    "# Pyha automatically manages everything needed if you specify the 'RTL', 'NETLIST' flags.\n",
    "sim = Simulator(dut, output_dir=output_dir, extra_simulations=['RTL', 'NETLIST'])\n",
    "sim.run(input_signal)"
   ]
  },
  {
   "cell_type": "code",
   "execution_count": null,
   "metadata": {
    "scrolled": true
   },
   "outputs": [],
   "source": [
    "output_dir = '~/Documents/pyha_output'\n",
    "# conversion requires a simulation with 'train_model_for_conversion' flag enabled, which makes simulation much slower\n",
    "input_signal = np.random.normal(size=8000) * 0.25\n",
    "dut = MovingAverage(window_len=128)\n",
    "sim = Simulator(dut, train_model_for_conversion=True).run(input_signal)"
   ]
  },
  {
   "cell_type": "markdown",
   "metadata": {},
   "source": [
    "## RTL simulation"
   ]
  },
  {
   "cell_type": "code",
   "execution_count": null,
   "metadata": {},
   "outputs": [],
   "source": [
    "from pyha.conversion.conversion import Conversion"
   ]
  },
  {
   "cell_type": "code",
   "execution_count": null,
   "metadata": {},
   "outputs": [],
   "source": [
    "# convert sources and run the RTL simulation with GHDL and Cocotb\n",
    "conversion = Conversion(dut, output_dir).to_vhdl()\n",
    "sim = sim.run_rtl(conversion=conversion)"
   ]
  },
  {
   "cell_type": "markdown",
   "metadata": {},
   "source": [
    "## Netlist simulation"
   ]
  },
  {
   "cell_type": "markdown",
   "metadata": {},
   "source": [
    "## Make quartus project and netlist file"
   ]
  },
  {
   "cell_type": "code",
   "execution_count": null,
   "metadata": {},
   "outputs": [],
   "source": [
    "# synthesise VHDL sources into a netlist file, this also yields initial resource usage\n",
    "# netlist can also be simulated with GHDL/Cocotb, but it is super slow and quite useless (i have never seen it fail after sucessful synthesis)\n",
    "from pyha.synthesis.quartus import make_quartus_project, QuartusDockerWrapper\n",
    "make_quartus_project(conversion)\n",
    "quartus = QuartusDockerWrapper(output_dir)\n",
    "quartus.map()\n",
    "quartus.eda()\n",
    "# sim.set_netlist_file()\n",
    "# sim.run_netlist(input_signal)"
   ]
  },
  {
   "cell_type": "code",
   "execution_count": null,
   "metadata": {},
   "outputs": [],
   "source": [
    "sim.run_rtl(conversion=conversion, netlist=quartus.get_netlist_path())"
   ]
  },
  {
   "cell_type": "markdown",
   "metadata": {},
   "source": [
    "## Test simulation equality"
   ]
  },
  {
   "cell_type": "code",
   "execution_count": null,
   "metadata": {},
   "outputs": [],
   "source": [
    "# hardware simulations (PYHA, RTL, GATE) must match EXACTLY to pass.\n",
    "# match to MODEL can be controlled with 'rtol' and 'atol'\n",
    "sim.assert_simulations_equal(sims, rtol=1e-5, atol=1e-5)"
   ]
  },
  {
   "cell_type": "markdown",
   "metadata": {},
   "source": [
    "## Resource usage and Fmax"
   ]
  },
  {
   "cell_type": "code",
   "execution_count": null,
   "metadata": {},
   "outputs": [],
   "source": [
    "quartus.fit()\n",
    "print(quartus.get_resource_usage('fit'))\n",
    "print(quartus.get_fmax())"
   ]
  }
 ],
 "metadata": {
  "kernelspec": {
   "display_name": "Python 3",
   "language": "python",
   "name": "python3"
  },
  "language_info": {
   "codemirror_mode": {
    "name": "ipython",
    "version": 3
   },
   "file_extension": ".py",
   "mimetype": "text/x-python",
   "name": "python",
   "nbconvert_exporter": "python",
   "pygments_lexer": "ipython3",
   "version": "3.7.0"
  }
 },
 "nbformat": 4,
 "nbformat_minor": 1
}
