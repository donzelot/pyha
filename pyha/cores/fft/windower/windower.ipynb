{
 "cells": [
  {
   "cell_type": "code",
   "execution_count": 1,
   "metadata": {},
   "outputs": [
    {
     "data": {
      "application/javascript": [
       "$.getScript('https://kmahelona.github.io/ipython_notebook_goodies/ipython_notebook_toc.js')"
      ],
      "text/plain": [
       "<IPython.core.display.Javascript object>"
      ]
     },
     "metadata": {},
     "output_type": "display_data"
    }
   ],
   "source": [
    "%%javascript\n",
    "$.getScript('https://kmahelona.github.io/ipython_notebook_goodies/ipython_notebook_toc.js')"
   ]
  },
  {
   "cell_type": "markdown",
   "metadata": {},
   "source": [
    "<h1 id=\"tocheading\">Table of Contents</h1>\n",
    "<div id=\"toc\"></div>"
   ]
  },
  {
   "cell_type": "code",
   "execution_count": 2,
   "metadata": {},
   "outputs": [],
   "source": [
    "%load_ext autoreload\n",
    "%autoreload 2\n",
    "\n",
    "import matplotlib.pyplot as plt\n",
    "plt.rcParams['figure.figsize'] = 15, 5\n",
    "import numpy as np\n",
    "np.random.seed(0)\n",
    "from pyha import *\n",
    "import scipy\n",
    "from scipy import signal\n",
    "\n",
    "import warnings\n",
    "warnings.filterwarnings('ignore') # because they include system path -> fails unit tests on different computer\n",
    "\n",
    "simulations = ['MODEL', 'PYHA']"
   ]
  },
  {
   "cell_type": "markdown",
   "metadata": {},
   "source": [
    "# Application"
   ]
  },
  {
   "cell_type": "code",
   "execution_count": 3,
   "metadata": {},
   "outputs": [],
   "source": [
    "from pyha.cores import Windower\n",
    "from pyha.cores.util import *\n",
    "from scipy.fftpack import fft, fftshift\n",
    "plt.rcParams['figure.figsize'] = 15, 5"
   ]
  },
  {
   "cell_type": "code",
   "execution_count": 4,
   "metadata": {},
   "outputs": [],
   "source": [
    "def make_fft(window):\n",
    "    A = fft(window, len(window) * 8) / (len(window)/2.0)\n",
    "    freq = np.linspace(-0.5, 0.5, len(A))\n",
    "    response = 20 * np.log10(np.abs(fftshift(A / abs(A).max())))\n",
    "    return freq, response\n",
    "\n",
    "input_signal = [1.0 + 1.0j] * 512 # this input signal basically just returns the window taps\n",
    "fft_size = 256\n",
    "input_signal = np.reshape(input_signal, (-1, fft_size))"
   ]
  },
  {
   "cell_type": "markdown",
   "metadata": {},
   "source": [
    "## Boxcar (no window)"
   ]
  },
  {
   "cell_type": "code",
   "execution_count": 5,
   "metadata": {
    "scrolled": true
   },
   "outputs": [
    {
     "name": "stderr",
     "output_type": "stream",
     "text": [
      "INFO:sim:Enabled fast simulation (model cannot be converted to VHDL)\n",
      "INFO:sim:Running \"MODEL\" simulation...\n",
      "INFO:sim:OK!\n",
      "INFO:sim:Running \"PYHA\" simulation...\n"
     ]
    },
    {
     "name": "stdout",
     "output_type": "stream",
     "text": [
      "100%|██████████| 512/512 [00:00<00:00, 13382.96it/s]"
     ]
    },
    {
     "name": "stderr",
     "output_type": "stream",
     "text": [
      "INFO:sim:Flushing the pipeline... have 510 valid samples, need 512\n",
      "INFO:sim:Flushing took 2 cycles\n",
      "INFO:sim:OK!\n",
      "INFO:sim:Simulations completed!\n"
     ]
    },
    {
     "name": "stdout",
     "output_type": "stream",
     "text": [
      "\n"
     ]
    }
   ],
   "source": [
    "# NBVAL_IGNORE_OUTPUT\n",
    "dut = Windower(fft_size, window='boxcar', coefficient_bits=9)\n",
    "sims = simulate(dut, input_signal, simulations=simulations)"
   ]
  },
  {
   "cell_type": "code",
   "execution_count": 6,
   "metadata": {},
   "outputs": [
    {
     "ename": "TypeError",
     "evalue": "object of type 'numpy.complex128' has no len()",
     "output_type": "error",
     "traceback": [
      "\u001b[0;31m-------------------------------------------------------------------------\u001b[0m",
      "\u001b[0;31mTypeError\u001b[0m                               Traceback (most recent call last)",
      "\u001b[0;32m<ipython-input-6-cf45ffcdf8ab>\u001b[0m in \u001b[0;36m<module>\u001b[0;34m()\u001b[0m\n\u001b[1;32m      1\u001b[0m \u001b[0mplt\u001b[0m\u001b[0;34m.\u001b[0m\u001b[0mtitle\u001b[0m\u001b[0;34m(\u001b[0m\u001b[0;34m'Frequency domain'\u001b[0m\u001b[0;34m)\u001b[0m\u001b[0;34m\u001b[0m\u001b[0m\n\u001b[1;32m      2\u001b[0m \u001b[0;32mfor\u001b[0m \u001b[0mkey\u001b[0m\u001b[0;34m,\u001b[0m \u001b[0mvalue\u001b[0m \u001b[0;32min\u001b[0m \u001b[0msims\u001b[0m\u001b[0;34m.\u001b[0m\u001b[0mitems\u001b[0m\u001b[0;34m(\u001b[0m\u001b[0;34m)\u001b[0m\u001b[0;34m:\u001b[0m\u001b[0;34m\u001b[0m\u001b[0m\n\u001b[0;32m----> 3\u001b[0;31m     \u001b[0mplt\u001b[0m\u001b[0;34m.\u001b[0m\u001b[0mplot\u001b[0m\u001b[0;34m(\u001b[0m\u001b[0;34m*\u001b[0m\u001b[0mmake_fft\u001b[0m\u001b[0;34m(\u001b[0m\u001b[0mvalue\u001b[0m\u001b[0;34m[\u001b[0m\u001b[0;36m0\u001b[0m\u001b[0;34m]\u001b[0m\u001b[0;34m)\u001b[0m\u001b[0;34m)\u001b[0m\u001b[0;34m\u001b[0m\u001b[0m\n\u001b[0m\u001b[1;32m      4\u001b[0m \u001b[0;34m\u001b[0m\u001b[0m\n\u001b[1;32m      5\u001b[0m \u001b[0mplt\u001b[0m\u001b[0;34m.\u001b[0m\u001b[0mylabel\u001b[0m\u001b[0;34m(\u001b[0m\u001b[0;34m'Amplitude [dB]'\u001b[0m\u001b[0;34m)\u001b[0m\u001b[0;34m\u001b[0m\u001b[0m\n",
      "\u001b[0;32m<ipython-input-4-9f9ccef25c44>\u001b[0m in \u001b[0;36mmake_fft\u001b[0;34m(window)\u001b[0m\n\u001b[1;32m      1\u001b[0m \u001b[0;32mdef\u001b[0m \u001b[0mmake_fft\u001b[0m\u001b[0;34m(\u001b[0m\u001b[0mwindow\u001b[0m\u001b[0;34m)\u001b[0m\u001b[0;34m:\u001b[0m\u001b[0;34m\u001b[0m\u001b[0m\n\u001b[0;32m----> 2\u001b[0;31m     \u001b[0mA\u001b[0m \u001b[0;34m=\u001b[0m \u001b[0mfft\u001b[0m\u001b[0;34m(\u001b[0m\u001b[0mwindow\u001b[0m\u001b[0;34m,\u001b[0m \u001b[0mlen\u001b[0m\u001b[0;34m(\u001b[0m\u001b[0mwindow\u001b[0m\u001b[0;34m)\u001b[0m \u001b[0;34m*\u001b[0m \u001b[0;36m8\u001b[0m\u001b[0;34m)\u001b[0m \u001b[0;34m/\u001b[0m \u001b[0;34m(\u001b[0m\u001b[0mlen\u001b[0m\u001b[0;34m(\u001b[0m\u001b[0mwindow\u001b[0m\u001b[0;34m)\u001b[0m\u001b[0;34m/\u001b[0m\u001b[0;36m2.0\u001b[0m\u001b[0;34m)\u001b[0m\u001b[0;34m\u001b[0m\u001b[0m\n\u001b[0m\u001b[1;32m      3\u001b[0m     \u001b[0mfreq\u001b[0m \u001b[0;34m=\u001b[0m \u001b[0mnp\u001b[0m\u001b[0;34m.\u001b[0m\u001b[0mlinspace\u001b[0m\u001b[0;34m(\u001b[0m\u001b[0;34m-\u001b[0m\u001b[0;36m0.5\u001b[0m\u001b[0;34m,\u001b[0m \u001b[0;36m0.5\u001b[0m\u001b[0;34m,\u001b[0m \u001b[0mlen\u001b[0m\u001b[0;34m(\u001b[0m\u001b[0mA\u001b[0m\u001b[0;34m)\u001b[0m\u001b[0;34m)\u001b[0m\u001b[0;34m\u001b[0m\u001b[0m\n\u001b[1;32m      4\u001b[0m     \u001b[0mresponse\u001b[0m \u001b[0;34m=\u001b[0m \u001b[0;36m20\u001b[0m \u001b[0;34m*\u001b[0m \u001b[0mnp\u001b[0m\u001b[0;34m.\u001b[0m\u001b[0mlog10\u001b[0m\u001b[0;34m(\u001b[0m\u001b[0mnp\u001b[0m\u001b[0;34m.\u001b[0m\u001b[0mabs\u001b[0m\u001b[0;34m(\u001b[0m\u001b[0mfftshift\u001b[0m\u001b[0;34m(\u001b[0m\u001b[0mA\u001b[0m \u001b[0;34m/\u001b[0m \u001b[0mabs\u001b[0m\u001b[0;34m(\u001b[0m\u001b[0mA\u001b[0m\u001b[0;34m)\u001b[0m\u001b[0;34m.\u001b[0m\u001b[0mmax\u001b[0m\u001b[0;34m(\u001b[0m\u001b[0;34m)\u001b[0m\u001b[0;34m)\u001b[0m\u001b[0;34m)\u001b[0m\u001b[0;34m)\u001b[0m\u001b[0;34m\u001b[0m\u001b[0m\n\u001b[1;32m      5\u001b[0m     \u001b[0;32mreturn\u001b[0m \u001b[0mfreq\u001b[0m\u001b[0;34m,\u001b[0m \u001b[0mresponse\u001b[0m\u001b[0;34m\u001b[0m\u001b[0m\n",
      "\u001b[0;31mTypeError\u001b[0m: object of type 'numpy.complex128' has no len()"
     ]
    },
    {
     "data": {
      "image/png": "[encoded data removed]",
      "text/plain": [
       "<Figure size 1080x360 with 1 Axes>"
      ]
     },
     "metadata": {},
     "output_type": "display_data"
    }
   ],
   "source": [
    "plt.title('Frequency domain')\n",
    "for key, value in sims.items():\n",
    "    plt.plot(*make_fft(value[0]))\n",
    "\n",
    "plt.ylabel('Amplitude [dB]')\n",
    "plt.xlabel('Frequency')\n",
    "plt.ylim([-120, 1])\n",
    "show_plot()"
   ]
  },
  {
   "cell_type": "markdown",
   "metadata": {},
   "source": [
    "## Hanning"
   ]
  },
  {
   "cell_type": "code",
   "execution_count": null,
   "metadata": {
    "scrolled": true
   },
   "outputs": [],
   "source": [
    "# NBVAL_IGNORE_OUTPUT\n",
    "dut = Windower(fft_size, window='hanning', coefficient_bits=8)\n",
    "sims = simulate(dut, input_signal, simulations=simulations)"
   ]
  },
  {
   "cell_type": "code",
   "execution_count": null,
   "metadata": {
    "scrolled": true
   },
   "outputs": [],
   "source": [
    "plt.title('Frequency domain')\n",
    "for key, value in sims.items():\n",
    "    plt.plot(*make_fft(value[0]))\n",
    "\n",
    "plt.ylabel('Amplitude [dB]')\n",
    "plt.xlabel('Frequency')\n",
    "plt.ylim([-120, 1])\n",
    "show_plot()"
   ]
  },
  {
   "cell_type": "markdown",
   "metadata": {},
   "source": [
    "## Hamming"
   ]
  },
  {
   "cell_type": "code",
   "execution_count": null,
   "metadata": {
    "scrolled": true
   },
   "outputs": [],
   "source": [
    "# NBVAL_IGNORE_OUTPUT\n",
    "dut = Windower(fft_size, window='hamming', coefficient_bits=8)\n",
    "sims = simulate(dut, input_signal, simulations=simulations)"
   ]
  },
  {
   "cell_type": "code",
   "execution_count": null,
   "metadata": {
    "scrolled": true
   },
   "outputs": [],
   "source": [
    "plt.title('Frequency domain')\n",
    "for key, value in sims.items():\n",
    "    plt.plot(*make_fft(value[0]))\n",
    "\n",
    "plt.ylabel('Amplitude [dB]')\n",
    "plt.xlabel('Frequency')\n",
    "plt.ylim([-120, 1])\n",
    "show_plot()"
   ]
  },
  {
   "cell_type": "markdown",
   "metadata": {},
   "source": [
    "# Limitations"
   ]
  },
  {
   "cell_type": "markdown",
   "metadata": {},
   "source": [
    "## Fixed-point\n",
    "Expects standard FPGA Fixed point format i.e 18 bits (incl. sign) and scaled to -1...1 range."
   ]
  },
  {
   "cell_type": "code",
   "execution_count": null,
   "metadata": {},
   "outputs": [],
   "source": [
    "print(f'Minimum number representabe: {2**-17}')"
   ]
  },
  {
   "cell_type": "markdown",
   "metadata": {},
   "source": [
    "## Coefficients are stored in LUTs (as constants)\n",
    "Storing 18bit coefficnets for large FFT can take huge amounts of LUTS. I recommend using bitwidth of ~8, then synthsis tool can compress most of them."
   ]
  },
  {
   "cell_type": "markdown",
   "metadata": {},
   "source": [
    "# Synthesis"
   ]
  },
  {
   "cell_type": "code",
   "execution_count": 11,
   "metadata": {},
   "outputs": [
    {
     "name": "stderr",
     "output_type": "stream",
     "text": [
      "INFO:sim:Running \"MODEL\" simulation...\n",
      "INFO:sim:OK!\n",
      "INFO:sim:Running \"PYHA\" simulation...\n"
     ]
    },
    {
     "name": "stdout",
     "output_type": "stream",
     "text": [
      "100%|██████████| 512/512 [00:00<00:00, 3357.80it/s]"
     ]
    },
    {
     "name": "stderr",
     "output_type": "stream",
     "text": [
      "INFO:sim:Flushing the pipeline... have 510 valid samples, need 512\n",
      "INFO:sim:Flushing took 2 cycles\n",
      "INFO:sim:OK!\n",
      "INFO:sim:Running \"RTL\" simulation...\n",
      "INFO:conversion:Creating top.vhd ...\n",
      "INFO:conversion:DataValid to VHDL ...\n",
      "INFO:conversion:DownCounter to VHDL ...\n"
     ]
    },
    {
     "name": "stdout",
     "output_type": "stream",
     "text": [
      "\n"
     ]
    },
    {
     "name": "stderr",
     "output_type": "stream",
     "text": [
      "INFO:conversion:Windower to VHDL ...\n",
      "INFO:sim:Running COCOTB & GHDL simulation....\n",
      "INFO:sim:OK!\n",
      "INFO:sim:Running \"GATE\" simulation...\n",
      "INFO:conversion:Creating top.vhd ...\n",
      "INFO:conversion:DataValid to VHDL ...\n",
      "INFO:conversion:DownCounter to VHDL ...\n",
      "INFO:conversion:Windower to VHDL ...\n",
      "INFO:sim:Running quartus map...will take time.\n",
      "INFO:sim:Analysis & Synthesis Status : Successful - Wed Sep  5 11:29:37 2018\n",
      "INFO:sim:Quartus Prime Version : 18.0.0 Build 614 04/24/2018 SJ Lite Edition\n",
      "INFO:sim:Revision Name : quartus_project\n",
      "INFO:sim:Top-level Entity Name : top\n",
      "INFO:sim:Family : Cyclone IV E\n",
      "INFO:sim:Total logic elements : 257\n",
      "INFO:sim:    Total combinational functions : 203\n",
      "INFO:sim:    Dedicated logic registers : 106\n",
      "INFO:sim:Total registers : 106\n",
      "INFO:sim:Total pins : 76\n",
      "INFO:sim:Total virtual pins : 0\n",
      "INFO:sim:Total memory bits : 0\n",
      "INFO:sim:Embedded Multiplier 9-bit elements : 4\n",
      "INFO:sim:Total PLLs : 0\n",
      "INFO:sim:Running netlist writer.\n",
      "INFO:sim:Running COCOTB & GHDL simulation....\n",
      "INFO:sim:OK!\n",
      "INFO:sim:Simulations completed!\n",
      "INFO:sim:Testing hardware simulations equality...\n",
      "INFO:sim:sims_close(rtol=1e-16, atol=1e-16)\n",
      "INFO:sim:Using \"PYHA\" as golden output\n",
      "INFO:sim:PYHA OK!\n",
      "ERROR:conversion:RTL -> Fail, lists have different lengths: 510 vs 512\n",
      "INFO:sim:RTL FAILED!\n",
      "ERROR:conversion:GATE -> Fail, lists have different lengths: 510 vs 512\n",
      "INFO:sim:GATE FAILED!\n"
     ]
    },
    {
     "ename": "AssertionError",
     "evalue": "",
     "output_type": "error",
     "traceback": [
      "\u001b[0;31m-------------------------------------------------------------------------\u001b[0m",
      "\u001b[0;31mAssertionError\u001b[0m                          Traceback (most recent call last)",
      "\u001b[0;32m<ipython-input-11-19569d2808ad>\u001b[0m in \u001b[0;36m<module>\u001b[0;34m()\u001b[0m\n\u001b[1;32m      4\u001b[0m \u001b[0msims\u001b[0m \u001b[0;34m=\u001b[0m \u001b[0msimulate\u001b[0m\u001b[0;34m(\u001b[0m\u001b[0mdut\u001b[0m\u001b[0;34m,\u001b[0m \u001b[0minput_signal\u001b[0m\u001b[0;34m,\u001b[0m \u001b[0msimulations\u001b[0m\u001b[0;34m=\u001b[0m\u001b[0;34m[\u001b[0m\u001b[0;34m'MODEL'\u001b[0m\u001b[0;34m,\u001b[0m \u001b[0;34m'PYHA'\u001b[0m\u001b[0;34m,\u001b[0m \u001b[0;34m'RTL'\u001b[0m\u001b[0;34m,\u001b[0m \u001b[0;34m'GATE'\u001b[0m\u001b[0;34m]\u001b[0m\u001b[0;34m,\u001b[0m \u001b[0mconversion_path\u001b[0m\u001b[0;34m=\u001b[0m\u001b[0moutput_dir\u001b[0m\u001b[0;34m)\u001b[0m\u001b[0;34m\u001b[0m\u001b[0m\n\u001b[1;32m      5\u001b[0m \u001b[0;34m\u001b[0m\u001b[0m\n\u001b[0;32m----> 6\u001b[0;31m \u001b[0;32massert\u001b[0m \u001b[0mhardware_sims_equal\u001b[0m\u001b[0;34m(\u001b[0m\u001b[0msims\u001b[0m\u001b[0;34m)\u001b[0m\u001b[0;34m\u001b[0m\u001b[0m\n\u001b[0m\u001b[1;32m      7\u001b[0m \u001b[0mlut\u001b[0m\u001b[0;34m,\u001b[0m \u001b[0mmem\u001b[0m\u001b[0;34m,\u001b[0m \u001b[0mmul\u001b[0m \u001b[0;34m=\u001b[0m \u001b[0mget_resource_usage\u001b[0m\u001b[0;34m(\u001b[0m\u001b[0;34m)\u001b[0m\u001b[0;34m\u001b[0m\u001b[0m\n\u001b[1;32m      8\u001b[0m \u001b[0mprint\u001b[0m\u001b[0;34m(\u001b[0m\u001b[0;34mf'Logic elements: {lut}'\u001b[0m\u001b[0;34m)\u001b[0m\u001b[0;34m\u001b[0m\u001b[0m\n",
      "\u001b[0;31mAssertionError\u001b[0m: "
     ]
    }
   ],
   "source": [
    "# NBVAL_SKIP\n",
    "output_dir = '~/Documents/pyha_output'\n",
    "dut = Windower(fft_size, window='hamming', coefficient_bits=9)\n",
    "sims = simulate(dut, input_signal, simulations=['MODEL', 'PYHA', 'RTL', 'GATE'], conversion_path=output_dir)\n",
    "\n",
    "assert hardware_sims_equal(sims)\n",
    "lut, mem, mul = get_resource_usage()\n",
    "print(f'Logic elements: {lut}')\n",
    "print(f'Memory: {mem}')\n",
    "print(f'Multipler (18bit): {mul//2}')"
   ]
  },
  {
   "cell_type": "code",
   "execution_count": null,
   "metadata": {},
   "outputs": [],
   "source": []
  }
 ],
 "metadata": {
  "kernelspec": {
   "display_name": "Python 3",
   "language": "python",
   "name": "python3"
  },
  "language_info": {
   "codemirror_mode": {
    "name": "ipython",
    "version": 3
   },
   "file_extension": ".py",
   "mimetype": "text/x-python",
   "name": "python",
   "nbconvert_exporter": "python",
   "pygments_lexer": "ipython3",
   "version": "3.7.0"
  }
 },
 "nbformat": 4,
 "nbformat_minor": 1
}
