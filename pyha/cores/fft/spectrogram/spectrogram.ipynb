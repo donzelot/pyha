{
 "cells": [
  {
   "cell_type": "code",
   "execution_count": 1,
   "metadata": {},
   "outputs": [
    {
     "data": {
      "application/javascript": [
       "$.getScript('https://kmahelona.github.io/ipython_notebook_goodies/ipython_notebook_toc.js')"
      ],
      "text/plain": [
       "<IPython.core.display.Javascript object>"
      ]
     },
     "metadata": {},
     "output_type": "display_data"
    }
   ],
   "source": [
    "%%javascript\n",
    "$.getScript('https://kmahelona.github.io/ipython_notebook_goodies/ipython_notebook_toc.js')"
   ]
  },
  {
   "cell_type": "markdown",
   "metadata": {},
   "source": [
    "<h1 id=\"tocheading\">Table of Contents</h1>\n",
    "<div id=\"toc\"></div>"
   ]
  },
  {
   "cell_type": "code",
   "execution_count": 7,
   "metadata": {},
   "outputs": [
    {
     "name": "stdout",
     "output_type": "stream",
     "text": [
      "The autoreload extension is already loaded. To reload it, use:\n",
      "  %reload_ext autoreload\n"
     ]
    }
   ],
   "source": [
    "%load_ext autoreload\n",
    "%autoreload 2\n",
    "\n",
    "import matplotlib.pyplot as plt\n",
    "plt.rcParams['figure.figsize'] = 15, 5\n",
    "import numpy as np\n",
    "np.random.seed(0)\n",
    "from pyha import *\n",
    "import scipy\n",
    "from scipy import signal\n",
    "import os\n",
    "import inspect\n",
    "\n",
    "import warnings\n",
    "warnings.filterwarnings('ignore') # because they include system path -> fails unit tests on different computer\n",
    "\n",
    "simulations = ['MODEL', 'PYHA']"
   ]
  },
  {
   "cell_type": "markdown",
   "metadata": {},
   "source": [
    "# Application"
   ]
  },
  {
   "cell_type": "code",
   "execution_count": 8,
   "metadata": {},
   "outputs": [],
   "source": [
    "from pyha.cores import Spectrogram\n",
    "from pyha.cores.util import *\n",
    "plt.rcParams['figure.figsize'] = 15, 5"
   ]
  },
  {
   "cell_type": "code",
   "execution_count": 9,
   "metadata": {},
   "outputs": [],
   "source": [
    "fft_size = 1024"
   ]
  },
  {
   "cell_type": "code",
   "execution_count": 10,
   "metadata": {},
   "outputs": [
    {
     "name": "stdout",
     "output_type": "stream",
     "text": [
      "139264\n"
     ]
    }
   ],
   "source": [
    "from pyha.cores import BitreversalFFTshiftAVGPool\n",
    "file = os.path.dirname(inspect.getfile(BitreversalFFTshiftAVGPool)) + '/phantom3_low_power_bladerf.npy'\n",
    "orig_inp = np.load(file) # IQ samples\n",
    "orig_inp = orig_inp[:int(len(orig_inp)/fft_size)*fft_size]\n",
    "print(len(orig_inp))\n",
    "# orig_inp *= 128"
   ]
  },
  {
   "cell_type": "markdown",
   "metadata": {},
   "source": [
    "## Spectrogram"
   ]
  },
  {
   "cell_type": "code",
   "execution_count": null,
   "metadata": {
    "scrolled": true
   },
   "outputs": [],
   "source": [
    "dut = Spectrogram(fft_size, avg_freq_axis=8, avg_time_axis=2)\n",
    "sims = simulate(dut, orig_inp, simulations=simulations)"
   ]
  },
  {
   "cell_type": "code",
   "execution_count": null,
   "metadata": {},
   "outputs": [],
   "source": [
    "print(f\"SNR: {snr(sims['MODEL'], sims['PYHA']):.2f}\")\n",
    "plt.plot(sims['MODEL'] - sims['PYHA'])\n",
    "print(sims['MODEL'].shape)"
   ]
  },
  {
   "cell_type": "code",
   "execution_count": null,
   "metadata": {},
   "outputs": [],
   "source": [
    "print(f\"SNR: {snr(sims['MODEL'], sims['PYHA']):.2f}\")\n",
    "imshow(sims['PYHA'].T)"
   ]
  },
  {
   "cell_type": "markdown",
   "metadata": {},
   "source": [
    "# Limitations"
   ]
  },
  {
   "cell_type": "markdown",
   "metadata": {},
   "source": [
    "## Fixed-point\n",
    "Expects standard FPGA Fixed point format i.e 18 bits (incl. sign) and scaled to -1...1 range."
   ]
  },
  {
   "cell_type": "code",
   "execution_count": null,
   "metadata": {},
   "outputs": [],
   "source": [
    "print(f'Minimum number representabe: {2**-17}')"
   ]
  },
  {
   "cell_type": "markdown",
   "metadata": {},
   "source": [
    "## Average pooling cannot be turned off i.e. setting `avg_freq_axis=1, avg_time_axis=1`\n",
    "For this case the implementation could be simplified i.e. no need for high-precision fixed-point and read-modify-write."
   ]
  },
  {
   "cell_type": "markdown",
   "metadata": {},
   "source": [
    "# Synthesis\n",
    "`avg_freq_axis` controls the memory usage and decimates the output data rate.\n",
    "\n",
    "`avg_time_axis` decimates output data rate but has ~no effect on resource usage."
   ]
  },
  {
   "cell_type": "markdown",
   "metadata": {},
   "source": [
    "## `avg_freq_axis=8` and `avg_time_axis=4`"
   ]
  },
  {
   "cell_type": "code",
   "execution_count": 11,
   "metadata": {},
   "outputs": [
    {
     "name": "stderr",
     "output_type": "stream",
     "text": [
      "INFO:sim:Running \"MODEL\" simulation...\n",
      "INFO:sim:OK!\n",
      "INFO:sim:Running \"PYHA\" simulation...\n"
     ]
    },
    {
     "name": "stdout",
     "output_type": "stream",
     "text": [
      "100%|██████████| 16384/16384 [01:04<00:00, 252.87it/s]"
     ]
    },
    {
     "name": "stderr",
     "output_type": "stream",
     "text": [
      "INFO:sim:Flushing the pipeline... have 0 valid samples, need 1024\n"
     ]
    },
    {
     "name": "stdout",
     "output_type": "stream",
     "text": [
      "\n"
     ]
    },
    {
     "name": "stderr",
     "output_type": "stream",
     "text": [
      "INFO:sim:Flushing took 8752 cycles\n",
      "INFO:sim:OK!\n",
      "INFO:sim:Running \"GATE\" simulation...\n",
      "INFO:conversion:Creating top.vhd ...\n",
      "INFO:conversion:DataValid to VHDL ...\n",
      "INFO:conversion:DataValid to VHDL ...\n",
      "INFO:conversion:ShiftRegister to VHDL ...\n",
      "INFO:conversion:DownCounter to VHDL ...\n",
      "INFO:conversion:MovingAverage to VHDL ...\n",
      "INFO:conversion:ShiftRegister to VHDL ...\n",
      "INFO:conversion:DCRemoval to VHDL ...\n",
      "INFO:conversion:Windower to VHDL ...\n",
      "INFO:conversion:ShiftRegister to VHDL ...\n",
      "INFO:conversion:DownCounter to VHDL ...\n",
      "INFO:conversion:StageR2SDF to VHDL ...\n",
      "INFO:conversion:ShiftRegister to VHDL ...\n",
      "INFO:conversion:DownCounter to VHDL ...\n",
      "INFO:conversion:StageR2SDF to VHDL ...\n",
      "INFO:conversion:ShiftRegister to VHDL ...\n",
      "INFO:conversion:DownCounter to VHDL ...\n",
      "INFO:conversion:StageR2SDF to VHDL ...\n",
      "INFO:conversion:ShiftRegister to VHDL ...\n",
      "INFO:conversion:DownCounter to VHDL ...\n",
      "INFO:conversion:StageR2SDF to VHDL ...\n",
      "INFO:conversion:ShiftRegister to VHDL ...\n",
      "INFO:conversion:DownCounter to VHDL ...\n",
      "INFO:conversion:StageR2SDF to VHDL ...\n",
      "INFO:conversion:DownCounter to VHDL ...\n",
      "INFO:conversion:StageR2SDF to VHDL ...\n",
      "INFO:conversion:ShiftRegister to VHDL ...\n",
      "INFO:conversion:DownCounter to VHDL ...\n",
      "INFO:conversion:StageR2SDF to VHDL ...\n",
      "INFO:conversion:ShiftRegister to VHDL ...\n",
      "INFO:conversion:DownCounter to VHDL ...\n",
      "INFO:conversion:StageR2SDF to VHDL ...\n",
      "INFO:conversion:ShiftRegister to VHDL ...\n",
      "INFO:conversion:DownCounter to VHDL ...\n",
      "INFO:conversion:StageR2SDF to VHDL ...\n",
      "INFO:conversion:ShiftRegister to VHDL ...\n",
      "INFO:conversion:DownCounter to VHDL ...\n",
      "INFO:conversion:StageR2SDF to VHDL ...\n",
      "INFO:conversion:ShiftRegister to VHDL ...\n",
      "INFO:conversion:DownCounter to VHDL ...\n",
      "INFO:conversion:StageR2SDF to VHDL ...\n",
      "INFO:conversion:ShiftRegister to VHDL ...\n",
      "INFO:conversion:DownCounter to VHDL ...\n",
      "INFO:conversion:StageR2SDF to VHDL ...\n",
      "INFO:conversion:ShiftRegister to VHDL ...\n",
      "INFO:conversion:StageR2SDF to VHDL ...\n",
      "INFO:conversion:R2SDF to VHDL ...\n",
      "INFO:conversion:FFTPower to VHDL ...\n",
      "INFO:conversion:RAM to VHDL ...\n",
      "INFO:conversion:DownCounter to VHDL ...\n",
      "INFO:conversion:BitreversalFFTshiftAVGPool to VHDL ...\n",
      "INFO:conversion:Spectrogram to VHDL ...\n",
      "INFO:sim:Running quartus map...will take time.\n",
      "INFO:sim:Analysis & Synthesis Status : Failed - Wed Sep  5 14:54:39 2018\n",
      "INFO:sim:Quartus Prime Version : 18.0.0 Build 614 04/24/2018 SJ Lite Edition\n",
      "INFO:sim:Revision Name : quartus_project\n",
      "INFO:sim:Top-level Entity Name : top\n",
      "INFO:sim:Family : Cyclone IV E\n",
      "INFO:sim:Total logic elements : N/A until Partition Merge\n",
      "INFO:sim:    Total combinational functions : N/A until Partition Merge\n",
      "INFO:sim:    Dedicated logic registers : N/A until Partition Merge\n",
      "INFO:sim:Total registers : N/A until Partition Merge\n",
      "INFO:sim:Total pins : N/A until Partition Merge\n",
      "INFO:sim:Total virtual pins : N/A until Partition Merge\n",
      "INFO:sim:Total memory bits : N/A until Partition Merge\n",
      "INFO:sim:Embedded Multiplier 9-bit elements : N/A until Partition Merge\n",
      "INFO:sim:Total PLLs : N/A until Partition Merge\n",
      "INFO:sim:Running netlist writer.\n",
      "INFO:sim:Running COCOTB & GHDL simulation....\n",
      "INFO:sim:OK!\n",
      "INFO:sim:Simulations completed!\n"
     ]
    }
   ],
   "source": [
    "conv_dir = '~/Documents/pyha_output'\n",
    "fft_size = 1024 * 8\n",
    "dut = Spectrogram(fft_size, avg_freq_axis=16, avg_time_axis=1, fft_twiddle_bits=9, window_bits=8)\n",
    "sims = simulate(dut, orig_inp[:2*fft_size], simulations=['MODEL', 'PYHA', 'GATE'], conversion_path=conv_dir)"
   ]
  },
  {
   "cell_type": "code",
   "execution_count": null,
   "metadata": {},
   "outputs": [],
   "source": [
    "# 1024 dut = Spectrogram(fft_size, avg_freq_axis=16, avg_time_axis=1, fft_twiddle_bits=9, window_bits=8)\n",
    "# INFO:sim:Total logic elements : 5,117\n",
    "# INFO:sim:    Total combinational functions : 4,820\n",
    "# INFO:sim:    Dedicated logic registers : 2,514\n",
    "# INFO:sim:Total registers : 2514\n",
    "# INFO:sim:Total pins : 78\n",
    "# INFO:sim:Total virtual pins : 0\n",
    "# INFO:sim:Total memory bits : 59,004\n",
    "# INFO:sim:Embedded Multiplier 9-bit elements : 80\n",
    "\n",
    "# dut = Spectrogram(fft_size, avg_freq_axis=8, avg_time_axis=1, fft_twiddle_bits=9, window_bits=8)\n",
    "# INFO:sim:Family : Cyclone IV E\n",
    "# INFO:sim:Total logic elements : 5,125\n",
    "# INFO:sim:    Total combinational functions : 4,829\n",
    "# INFO:sim:    Dedicated logic registers : 2,519\n",
    "# INFO:sim:Total registers : 2519\n",
    "# INFO:sim:Total pins : 78\n",
    "# INFO:sim:Total virtual pins : 0\n",
    "# INFO:sim:Total memory bits : 63,612\n",
    "# INFO:sim:Embedded Multiplier 9-bit elements : 80"
   ]
  },
  {
   "cell_type": "code",
   "execution_count": null,
   "metadata": {},
   "outputs": [],
   "source": [
    "((1024*8) * (18 * 2))"
   ]
  },
  {
   "cell_type": "code",
   "execution_count": null,
   "metadata": {},
   "outputs": [],
   "source": [
    "# INFO:sim:Family : Cyclone IV E\n",
    "# INFO:sim:Total logic elements : 10,821\n",
    "# INFO:sim:    Total combinational functions : 10,527\n",
    "# INFO:sim:    Dedicated logic registers : 3,171\n",
    "# INFO:sim:Total registers : 3171\n",
    "# INFO:sim:Total pins : 78\n",
    "# INFO:sim:Total virtual pins : 0\n",
    "# INFO:sim:Total memory bits : 607,140\n",
    "# INFO:sim:Embedded Multiplier 9-bit elements : 104"
   ]
  },
  {
   "cell_type": "code",
   "execution_count": null,
   "metadata": {},
   "outputs": [],
   "source": [
    "assert sims_close(sims, rtol=1e-10, atol=1e-10)"
   ]
  },
  {
   "cell_type": "code",
   "execution_count": null,
   "metadata": {},
   "outputs": [],
   "source": [
    "lut, mem, mul = get_resource_usage()\n",
    "print(f'Logic elements: {lut}')\n",
    "print(f'Memory: {mem}')\n",
    "print(f'Multipler (18bit): {mul//2}')"
   ]
  }
 ],
 "metadata": {
  "kernelspec": {
   "display_name": "Python 3",
   "language": "python",
   "name": "python3"
  },
  "language_info": {
   "codemirror_mode": {
    "name": "ipython",
    "version": 3
   },
   "file_extension": ".py",
   "mimetype": "text/x-python",
   "name": "python",
   "nbconvert_exporter": "python",
   "pygments_lexer": "ipython3",
   "version": "3.7.0"
  }
 },
 "nbformat": 4,
 "nbformat_minor": 1
}
