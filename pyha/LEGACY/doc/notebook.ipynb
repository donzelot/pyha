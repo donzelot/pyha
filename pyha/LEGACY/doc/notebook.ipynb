{
 "cells": [
  {
   "cell_type": "markdown",
   "metadata": {},
   "source": [
    "\n",
    "## Trigonometric stuff for free\n",
    "There is a thing called CORDIC, that is able to calculate trigonometric functions by only using add and shift operations, so basically free.\n",
    "\n",
    "Good overview publication is given [here](http://www.andraka.com/files/crdcsrvy.pdf).\n",
    "\n",
    "CORDIC is based on efficient vector rotation defined as:\n",
    "$$ x_{i+1} = x_{i} - y_{i} * d * 2^{-i} $$\n",
    "$$ y_{i+1} = y_{i} + x_{i} * d * 2^{-i} $$\n",
    "\n",
    "At first i tougth that the sum of one cordic phase rotation is 90 degrees, that is false as the sum is about 100 degrees\n",
    "\n",
    "Potential error is equal to the last element phase increase.\n"
   ]
  },
  {
   "cell_type": "code",
   "execution_count": 1,
   "metadata": {
    "collapsed": false
   },
   "outputs": [
    {
     "name": "stdout",
     "output_type": "stream",
     "text": [
      "i=0, rotation= 45.00 deg, sum(rotation)= 45.00, gain= 1.414214\n",
      "i=1, rotation= 26.57 deg, sum(rotation)= 71.57, gain= 1.581139\n",
      "i=2, rotation= 14.04 deg, sum(rotation)= 85.60, gain= 1.629801\n",
      "i=3, rotation= 7.13 deg, sum(rotation)= 92.73, gain= 1.642484\n",
      "i=4, rotation= 3.58 deg, sum(rotation)= 96.30, gain= 1.645689\n",
      "i=5, rotation= 1.79 deg, sum(rotation)= 98.09, gain= 1.646492\n",
      "i=6, rotation= 0.90 deg, sum(rotation)= 98.99, gain= 1.646693\n",
      "i=7, rotation= 0.45 deg, sum(rotation)= 99.44, gain= 1.646744\n",
      "i=8, rotation= 0.22 deg, sum(rotation)= 99.66, gain= 1.646756\n",
      "i=9, rotation= 0.11 deg, sum(rotation)= 99.77, gain= 1.646759\n",
      "i=10, rotation= 0.06 deg, sum(rotation)= 99.83, gain= 1.646760\n",
      "i=11, rotation= 0.03 deg, sum(rotation)= 99.85, gain= 1.646760\n"
     ]
    }
   ],
   "source": [
    "%matplotlib inline\n",
    "import numpy as np\n",
    "import matplotlib.pyplot as plt\n",
    "\n",
    "x = 0\n",
    "y = 1\n",
    "gain = 1\n",
    "phs = 0\n",
    "for i in range(12):\n",
    "    dir = 1\n",
    "    x, y = x - dir*(y >> i), y + dir*(x >> i)\n",
    "    \n",
    "    # this is only for printing\n",
    "    gain = gain * np.sqrt(1 + 2 ** (-2*i))\n",
    "    phase = np.arctan(2 ** -i) * 180/np.pi\n",
    "    phs += phase\n",
    "    print('i={}, rotation= {:.2f} deg, sum(rotation)= {:.2f}, gain= {:.6f}'.format(i, phase, phs, gain))"
   ]
  },
  {
   "cell_type": "markdown",
   "metadata": {},
   "source": [
    "What we can see here is that by using only shifts and adds we can rotate vector by up to 100 degrees. Some problems however:\n",
    "* It is iterative process, where every succeeding step rotates less and less\n",
    "* Gain is not 1, but approximates 1.65 - we have to correct for that.\n",
    "\n",
    "Thing to notice is that the rotation degrees is always smaller than sum of the rotations below that step.\n",
    "Meaning we can implement a binary search algorithm, lets say to rotate a input vector by 37 degrees:\n",
    "\n"
   ]
  },
  {
   "cell_type": "code",
   "execution_count": 45,
   "metadata": {
    "collapsed": false
   },
   "outputs": [
    {
     "name": "stdout",
     "output_type": "stream",
     "text": [
      "Inital phase: 21.80140948635181\n",
      "dir= 1 rotation=45.0\n",
      "dir= -1 rotation=18.43494882292201\n",
      "dir= 1 rotation=32.471192290848485\n",
      "dir= 1 rotation=39.59620863975028\n",
      "dir= -1 rotation=36.01987426475293\n",
      "dir= 1 rotation=37.809784872998996\n",
      "dir= -1 rotation=36.91461116278792\n",
      "dir= 1 rotation=37.362225333648475\n",
      "dir= -1 rotation=37.13841483327994\n",
      "dir= -1 rotation=37.026509156213734\n",
      "dir= -1 rotation=36.97055626431993\n",
      "dir= 1 rotation=36.998532716936936\n",
      "End phase: 58.799942203288744\n"
     ]
    }
   ],
   "source": [
    "# input vector\n",
    "input = 0.5 + 0.2j\n",
    "angle = np.angle(input, deg=True)\n",
    "print('Inital phase: {}'.format(angle))\n",
    "x = input.real\n",
    "y = input.imag\n",
    "\n",
    "phs = 0\n",
    "target = 37\n",
    "for i in range(12):\n",
    "    dir = 1 if phs < target else -1\n",
    "    c = 2 ** -i\n",
    "    x, y = x - dir*(y* c), y + dir*(x * c)\n",
    "    phase = np.arctan(c) * 180/np.pi\n",
    "    phs += dir*phase\n",
    "    print('dir= {} rotation={}'.format(dir, phs))\n",
    "\n",
    "output = x + 1j*y\n",
    "angle = np.angle(output, deg=True)\n",
    "print('End phase: {}'.format(angle))"
   ]
  },
  {
   "cell_type": "markdown",
   "metadata": {},
   "source": [
    "What happens when we rotate our input vector to 0 phase? Well, in that case we can store the phase shift required to get to 0 point and that gives us the original phase of the signal. Lets try:\n"
   ]
  },
  {
   "cell_type": "code",
   "execution_count": 48,
   "metadata": {
    "collapsed": false
   },
   "outputs": [
    {
     "name": "stdout",
     "output_type": "stream",
     "text": [
      "Inital phase: 21.80140948635181\n",
      "dir= -1 rotation=45.0\n",
      "dir= 1 rotation=18.43494882292201\n",
      "dir= -1 rotation=32.471192290848485\n",
      "dir= 1 rotation=25.346175941946687\n",
      "dir= 1 rotation=21.769841566949335\n",
      "dir= -1 rotation=23.559752175195406\n",
      "dir= 1 rotation=22.66457846498433\n",
      "dir= 1 rotation=22.216964294123777\n",
      "dir= 1 rotation=21.993153793755237\n",
      "dir= 1 rotation=21.88124811668903\n",
      "dir= 1 rotation=21.825295224795227\n",
      "dir= 1 rotation=21.797318772178222\n",
      "End phase: 0.004090714173580176\n"
     ]
    }
   ],
   "source": [
    "# input vector\n",
    "input = 0.5 + 0.2j\n",
    "angle = np.angle(input, deg=True)\n",
    "print('Inital phase: {}'.format(angle))\n",
    "x = input.real\n",
    "y = input.imag\n",
    "\n",
    "phs = 0\n",
    "for i in range(12):\n",
    "    dir = 1 if y < 0 else -1\n",
    "    c = 2 ** -i\n",
    "    x, y = x - dir*(y* c), y + dir*(x * c)\n",
    "    phase = np.arctan(c) * 180/np.pi\n",
    "    phs -= dir*phase\n",
    "    print('dir= {} rotation={}'.format(dir, phs))\n",
    "\n",
    "output = x + 1j*y\n",
    "angle = np.angle(output, deg=True)\n",
    "print('End phase: {}'.format(angle))"
   ]
  },
  {
   "cell_type": "markdown",
   "metadata": {
    "slideshow": {
     "slide_type": "notes"
    }
   },
   "source": [
    "I replaced the dir function to check it the y component is below zero or not. The algorithm converges and the gives us the phase value of the input. Additionally since the y component is 0, we can read the input instantainous power from the x component (that has the parasitic CORDIC scaling included).\n",
    "This is big value indeed."
   ]
  },
  {
   "cell_type": "markdown",
   "metadata": {},
   "source": [
    "Found an great implementation of CORDIC performing polar <-> rectangular conversion [here](http://code.activestate.com/recipes/576792-polar-to-rectangular-conversions-using-cordic/), take a look at to_polar() function, only 5 lines of code:"
   ]
  },
  {
   "cell_type": "code",
   "execution_count": null,
   "metadata": {
    "collapsed": true
   },
   "outputs": [],
   "source": [
    "def to_polar(x, y):\n",
    "    'Rectangular to polar conversion using ints scaled by 100000. Angle in degrees.'\n",
    "    theta = 0\n",
    "    for i, adj in enumerate((4500000, 2656505, 1403624, 712502, 357633, 178991, 89517, 44761)):\n",
    "        sign = 1 if y < 0 else -1\n",
    "        x, y, theta = x - sign*(y >> i), y + sign*(x >> i), theta - sign*adj\n",
    "    return theta, x * 60726 // 100000"
   ]
  },
  {
   "cell_type": "markdown",
   "metadata": {},
   "source": [
    "Now how to turn this simple code into hardware? Some problems with this code:\n",
    "* CORDIC size is hard-coded(8 iterations) as are the phase values\n",
    "* It uses scaled integers instead fixed point numbers, this has to change\n",
    "* Multiplication is used to control the signedness, this will not work in hardware\n",
    "* Uses \"tricky\" multiple variable assignment (notice that these assignments actually need temporary variables)\n",
    "\n",
    "We need to deal with fixed-point numbers and resizing in order to synthesize this code, registers will need some attentions as well.\n",
    "Bottom line is that we are not going to make it with 5 lines of code, in fact if we make it under 50 lines it is good.\n",
    "\n",
    "I would start by converting this function into class and adding options to define number of iterations, that means we need to generate the phase lookup-table as well. "
   ]
  },
  {
   "cell_type": "markdown",
   "metadata": {},
   "source": [
    "$$c = \\sqrt{a^2 + b^2}$$"
   ]
  }
 ],
 "metadata": {
  "kernelspec": {
   "display_name": "Python 3",
   "language": "python",
   "name": "python3"
  },
  "language_info": {
   "codemirror_mode": {
    "name": "ipython",
    "version": 3.0
   },
   "file_extension": ".py",
   "mimetype": "text/x-python",
   "name": "python",
   "nbconvert_exporter": "python",
   "pygments_lexer": "ipython3",
   "version": "3.5.1"
  }
 },
 "nbformat": 4,
 "nbformat_minor": 0
}