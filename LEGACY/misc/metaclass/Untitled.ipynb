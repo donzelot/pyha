{
 "cells": [
  {
   "cell_type": "markdown",
   "metadata": {},
   "source": [
    "### Overwrite normal function"
   ]
  },
  {
   "cell_type": "code",
   "execution_count": 43,
   "metadata": {
    "collapsed": true
   },
   "outputs": [],
   "source": [
    "class Test:\n",
    "    def __init__(self):\n",
    "        self.i = 4\n",
    "\n",
    "    def __call__(self, *args, **kwargs):\n",
    "        print('Call function')\n",
    "        pass\n",
    "    \n",
    "    def func(self):\n",
    "        print('func')"
   ]
  },
  {
   "cell_type": "code",
   "execution_count": 44,
   "metadata": {
    "collapsed": false
   },
   "outputs": [
    {
     "name": "stdout",
     "output_type": "stream",
     "text": [
      "Call function\n"
     ]
    }
   ],
   "source": [
    "i = Test()\n",
    "i()"
   ]
  },
  {
   "cell_type": "code",
   "execution_count": 45,
   "metadata": {
    "collapsed": true
   },
   "outputs": [],
   "source": [
    "def wrapper(f):\n",
    "    print('Wrapper')\n",
    "    def wrap(*args, **kwargs):\n",
    "        print('before func')\n",
    "        f(*args, **kwargs)\n",
    "        print('after func')\n",
    "    return wrap\n"
   ]
  },
  {
   "cell_type": "code",
   "execution_count": 46,
   "metadata": {
    "collapsed": false
   },
   "outputs": [
    {
     "name": "stdout",
     "output_type": "stream",
     "text": [
      "Wrapper\n"
     ]
    }
   ],
   "source": [
    "i.func = wrapper(i.func)"
   ]
  },
  {
   "cell_type": "code",
   "execution_count": 47,
   "metadata": {
    "collapsed": false
   },
   "outputs": [
    {
     "name": "stdout",
     "output_type": "stream",
     "text": [
      "before func\n",
      "func\n",
      "after func\n"
     ]
    }
   ],
   "source": [
    "i.func()"
   ]
  },
  {
   "cell_type": "markdown",
   "metadata": {},
   "source": [
    "### Overwrite __call__\n",
    "Have to overwrite class function as it is \"special functon\""
   ]
  },
  {
   "cell_type": "code",
   "execution_count": 49,
   "metadata": {
    "collapsed": false
   },
   "outputs": [
    {
     "name": "stdout",
     "output_type": "stream",
     "text": [
      "Wrapper\n"
     ]
    }
   ],
   "source": [
    "Test.__call__ = wrapper(Test.__call__)"
   ]
  },
  {
   "cell_type": "code",
   "execution_count": 50,
   "metadata": {
    "collapsed": false
   },
   "outputs": [
    {
     "name": "stdout",
     "output_type": "stream",
     "text": [
      "before func\n",
      "Call function\n",
      "after func\n"
     ]
    }
   ],
   "source": [
    "i = Test()\n",
    "i()"
   ]
  },
  {
   "cell_type": "markdown",
   "metadata": {},
   "source": [
    "### Class decorator"
   ]
  },
  {
   "cell_type": "code",
   "execution_count": 143,
   "metadata": {
    "collapsed": false
   },
   "outputs": [
    {
     "name": "stdout",
     "output_type": "stream",
     "text": [
      "Block\n",
      "{'__doc__': None, '__weakref__': <attribute '__weakref__' of 'Test' objects>, '__init__': <function Test.__init__ at 0x7facd6a201e0>, '__dict__': <attribute '__dict__' of 'Test' objects>, '__module__': '__main__'}\n"
     ]
    }
   ],
   "source": [
    "def block(cls):\n",
    "    print('Block')\n",
    "    return cls\n",
    "\n",
    "@block\n",
    "class Test(object):\n",
    "    def __init__(self):\n",
    "        self.a = 1\n",
    "        print('Init')\n",
    "    "
   ]
  },
  {
   "cell_type": "code",
   "execution_count": 141,
   "metadata": {
    "collapsed": false
   },
   "outputs": [
    {
     "name": "stdout",
     "output_type": "stream",
     "text": [
      "Init\n"
     ]
    }
   ],
   "source": [
    "dut = Test()"
   ]
  },
  {
   "cell_type": "markdown",
   "metadata": {},
   "source": [
    "Probleem selles, et mul vaja peale init kutsumist muuta, ehk ikka metaclass vaja"
   ]
  },
  {
   "cell_type": "code",
   "execution_count": 164,
   "metadata": {
    "collapsed": false
   },
   "outputs": [
    {
     "name": "stdout",
     "output_type": "stream",
     "text": [
      "  Meta.__init__(cls=<class '__main__.Test'>, name='Test', bases=(), attrs=[__call__, __init__, __qualname__, __module__], **{})\n"
     ]
    }
   ],
   "source": [
    "class DBInterfaceMeta(type):\n",
    "    def __init__(cls, name, bases, attrs, **kwargs):\n",
    "        attr = getattr(cls, '__call__', None)\n",
    "        if attr is None:\n",
    "            print('WTF')\n",
    "#         print(hasattr(cls, '__call__'))\n",
    "        print('  Meta.__init__(cls=%s, name=%r, bases=%s, attrs=[%s], **%s)' % (\n",
    "            cls, name, bases, ', '.join(attrs), kwargs\n",
    "        ))\n",
    "        return super().__init__(name, bases, attrs)\n",
    "    \n",
    "    # ran when instance is made\n",
    "    def __call__(cls, *args, **kwargs):\n",
    "        print('  Meta.__call__(cls=%s, args=%s, kwargs=%s)' % (cls, args, kwargs))\n",
    "        return super().__call__(*args, **kwargs)\n",
    "        \n",
    "class Test(metaclass=DBInterfaceMeta):\n",
    "    def __init__(self):\n",
    "        self.a = 1\n",
    "        print('MAIN Init')\n",
    "        \n",
    "    def __call__(self):\n",
    "        print('CALL')"
   ]
  },
  {
   "cell_type": "code",
   "execution_count": 155,
   "metadata": {
    "collapsed": false
   },
   "outputs": [
    {
     "name": "stdout",
     "output_type": "stream",
     "text": [
      "  Meta.__call__(cls=<class '__main__.Test'>, args=(), kwargs={})\n",
      "MAIN Init\n"
     ]
    }
   ],
   "source": [
    "dut = Test()"
   ]
  },
  {
   "cell_type": "markdown",
   "metadata": {},
   "source": [
    "### Var to property"
   ]
  },
  {
   "cell_type": "code",
   "execution_count": 104,
   "metadata": {
    "collapsed": false
   },
   "outputs": [],
   "source": [
    "class RevealAccess(object):\n",
    "    \"\"\"A data descriptor that sets and returns values\n",
    "       normally and prints a message logging their access.\n",
    "    \"\"\"\n",
    "\n",
    "    def __init__(self, initval=None, name='var'):\n",
    "        self.val = initval\n",
    "        self.name = name\n",
    "\n",
    "    def __get__(self, obj, objtype):\n",
    "        print('Retrieving', self.name)\n",
    "        return self.val\n",
    "\n",
    "    def __set__(self, obj, val):\n",
    "        print('Updating', self.name)\n",
    "        self.val = val"
   ]
  },
  {
   "cell_type": "code",
   "execution_count": 112,
   "metadata": {
    "collapsed": false
   },
   "outputs": [
    {
     "data": {
      "text/plain": [
       "<__main__.RevealAccess at 0x7facd69daef0>"
      ]
     },
     "execution_count": 112,
     "metadata": {},
     "output_type": "execute_result"
    }
   ],
   "source": [
    "class MyClass(object):\n",
    "    x = RevealAccess(10, 'var \"x\"')\n",
    "    y = 5\n",
    "    def __init__(self, val):\n",
    "        self.lol = RevealAccess(10, 'var \"x\"')\n",
    "\n",
    "m = MyClass(11)\n",
    "m.lol"
   ]
  },
  {
   "cell_type": "code",
   "execution_count": 134,
   "metadata": {
    "collapsed": false
   },
   "outputs": [],
   "source": [
    "class Reg(object):\n",
    "    def __init__(self, val):\n",
    "        self._val_next = val\n",
    "        self._val = val\n",
    "    \n",
    "    def __get__(self, obj, type=None):\n",
    "        print('WTF')\n",
    "        return self._val\n",
    "\n",
    "    def __set__(self, obj, value):\n",
    "        raise AttributeError()\n",
    "    \n",
    "class Cont(object):\n",
    "    def __init__(self, val):\n",
    "        self.reg = Reg(val)\n",
    "#         self.reg = RevealAccess(10)\n",
    "    \n",
    "    def __getattribute__(self, name):\n",
    "        attr = super(Cont, self).__getattribute__(name)\n",
    "        if hasattr(attr, '__get__'):\n",
    "            return attr.__get__(self, Cont)\n",
    "        return attr\n",
    "    \n",
    "#     def setaatt"
   ]
  },
  {
   "cell_type": "code",
   "execution_count": 137,
   "metadata": {
    "collapsed": false
   },
   "outputs": [
    {
     "name": "stdout",
     "output_type": "stream",
     "text": [
      "WTF\n"
     ]
    }
   ],
   "source": [
    "t = Cont(1)\n",
    "t.reg\n",
    "t.reg = 1"
   ]
  },
  {
   "cell_type": "code",
   "execution_count": null,
   "metadata": {
    "collapsed": true
   },
   "outputs": [],
   "source": []
  },
  {
   "cell_type": "code",
   "execution_count": null,
   "metadata": {
    "collapsed": true
   },
   "outputs": [],
   "source": []
  },
  {
   "cell_type": "code",
   "execution_count": 70,
   "metadata": {
    "collapsed": false
   },
   "outputs": [
    {
     "data": {
      "text/plain": [
       "4"
      ]
     },
     "execution_count": 70,
     "metadata": {},
     "output_type": "execute_result"
    }
   ],
   "source": [
    "dut = Test()\n",
    "dut.i"
   ]
  },
  {
   "cell_type": "code",
   "execution_count": 71,
   "metadata": {
    "collapsed": false
   },
   "outputs": [],
   "source": [
    "def getter(x):return 1"
   ]
  },
  {
   "cell_type": "code",
   "execution_count": 72,
   "metadata": {
    "collapsed": true
   },
   "outputs": [],
   "source": [
    "dut.i = property(getter)"
   ]
  },
  {
   "cell_type": "code",
   "execution_count": 80,
   "metadata": {
    "collapsed": false
   },
   "outputs": [
    {
     "ename": "TypeError",
     "evalue": "'property' object is not callable",
     "output_type": "error",
     "traceback": [
      "\u001b[1;31m\u001b[0m",
      "\u001b[1;31mTypeError\u001b[0mTraceback (most recent call last)",
      "\u001b[1;32m<ipython-input-80-fb410ca8259e>\u001b[0m in \u001b[0;36m<module>\u001b[1;34m()\u001b[0m\n\u001b[1;32m----> 1\u001b[1;33m \u001b[0mdut\u001b[0m\u001b[1;33m.\u001b[0m\u001b[0mi\u001b[0m\u001b[1;33m(\u001b[0m\u001b[1;36m1\u001b[0m\u001b[1;33m)\u001b[0m\u001b[1;33m\u001b[0m\u001b[0m\n\u001b[0m",
      "\u001b[1;31mTypeError\u001b[0m: 'property' object is not callable"
     ]
    }
   ],
   "source": [
    "dut.i(1)"
   ]
  },
  {
   "cell_type": "code",
   "execution_count": 78,
   "metadata": {
    "collapsed": false
   },
   "outputs": [
    {
     "data": {
      "text/plain": [
       "['__class__',\n",
       " '__delattr__',\n",
       " '__delete__',\n",
       " '__dir__',\n",
       " '__doc__',\n",
       " '__eq__',\n",
       " '__format__',\n",
       " '__ge__',\n",
       " '__get__',\n",
       " '__getattribute__',\n",
       " '__gt__',\n",
       " '__hash__',\n",
       " '__init__',\n",
       " '__isabstractmethod__',\n",
       " '__le__',\n",
       " '__lt__',\n",
       " '__ne__',\n",
       " '__new__',\n",
       " '__reduce__',\n",
       " '__reduce_ex__',\n",
       " '__repr__',\n",
       " '__set__',\n",
       " '__setattr__',\n",
       " '__sizeof__',\n",
       " '__str__',\n",
       " '__subclasshook__',\n",
       " 'deleter',\n",
       " 'fdel',\n",
       " 'fget',\n",
       " 'fset',\n",
       " 'getter',\n",
       " 'setter']"
      ]
     },
     "execution_count": 78,
     "metadata": {},
     "output_type": "execute_result"
    }
   ],
   "source": [
    "dir(property)"
   ]
  },
  {
   "cell_type": "code",
   "execution_count": null,
   "metadata": {
    "collapsed": true
   },
   "outputs": [],
   "source": []
  }
 ],
 "metadata": {
  "kernelspec": {
   "display_name": "Python 3",
   "language": "python",
   "name": "python3"
  },
  "language_info": {
   "codemirror_mode": {
    "name": "ipython",
    "version": 3
   },
   "file_extension": ".py",
   "mimetype": "text/x-python",
   "name": "python",
   "nbconvert_exporter": "python",
   "pygments_lexer": "ipython3",
   "version": "3.5.1"
  }
 },
 "nbformat": 4,
 "nbformat_minor": 0
}
