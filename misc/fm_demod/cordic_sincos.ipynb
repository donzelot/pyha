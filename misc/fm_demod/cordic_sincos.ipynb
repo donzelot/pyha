{
 "cells": [
  {
   "cell_type": "code",
   "execution_count": 67,
   "metadata": {
    "collapsed": true
   },
   "outputs": [],
   "source": [
    "%matplotlib inline\n",
    "import numpy as np\n",
    "import scipy\n",
    "from scipy.signal import hilbert, chirp, spectrogram, periodogram\n",
    "import matplotlib.pyplot as plt\n",
    "\n",
    "fs = 1e3\n",
    "periods = 2\n",
    "freq = 1"
   ]
  },
  {
   "cell_type": "markdown",
   "metadata": {},
   "source": [
    "# Reference implementation"
   ]
  },
  {
   "cell_type": "code",
   "execution_count": 68,
   "metadata": {
    "collapsed": false
   },
   "outputs": [
    {
     "data": {
      "text/plain": [
       "[<matplotlib.lines.Line2D at 0x7f71ac294080>,\n",
       " <matplotlib.lines.Line2D at 0x7f71ac294a90>]"
      ]
     },
     "execution_count": 68,
     "metadata": {},
     "output_type": "execute_result"
    },
    {
     "data": {
      "image/png": "[encoded data removed]",
      "text/plain": [
       "<matplotlib.figure.Figure at 0x7f71ac3aa898>"
      ]
     },
     "metadata": {},
     "output_type": "display_data"
    }
   ],
   "source": [
    "# phase_incremet = 2*np.pi*freq / fs\n",
    "# time = np.arange(0, time_end*fs*phase_incremet, phase_incremet)\n",
    "time = np.linspace(0, periods, fs*periods, endpoint=False) # NB! NOTICE ENDPOINT, TO MATCH GNURADIO\n",
    "\n",
    "phase_angle = 2*np.pi*freq*time*1j\n",
    "ref = np.exp(phase_angle)\n",
    "# ref = np.exp(time*1j)\n",
    "plt.plot(time, ref.real,time, ref.imag)"
   ]
  },
  {
   "cell_type": "markdown",
   "metadata": {},
   "source": [
    "# CORDIC exp"
   ]
  },
  {
   "cell_type": "code",
   "execution_count": 70,
   "metadata": {
    "collapsed": false
   },
   "outputs": [
    {
     "ename": "TypeError",
     "evalue": "object() takes no parameters",
     "output_type": "error",
     "traceback": [
      "\u001b[1;31m\u001b[0m",
      "\u001b[1;31mTypeError\u001b[0mTraceback (most recent call last)",
      "\u001b[1;32m<ipython-input-70-afd9b0cb3062>\u001b[0m in \u001b[0;36m<module>\u001b[1;34m()\u001b[0m\n\u001b[0;32m     14\u001b[0m \u001b[1;32mfrom\u001b[0m \u001b[0mhwpy\u001b[0m\u001b[1;33m.\u001b[0m\u001b[0mcommon\u001b[0m\u001b[1;33m.\u001b[0m\u001b[0mcordic\u001b[0m \u001b[1;32mimport\u001b[0m \u001b[0mCORDIC\u001b[0m\u001b[1;33m\u001b[0m\u001b[0m\n\u001b[0;32m     15\u001b[0m \u001b[1;33m\u001b[0m\u001b[0m\n\u001b[1;32m---> 16\u001b[1;33m \u001b[0mlol\u001b[0m \u001b[1;33m=\u001b[0m \u001b[0mCORDIC\u001b[0m\u001b[1;33m(\u001b[0m\u001b[1;36m18\u001b[0m\u001b[1;33m)\u001b[0m\u001b[1;33m\u001b[0m\u001b[0m\n\u001b[0m\u001b[0;32m     17\u001b[0m \u001b[0mph\u001b[0m \u001b[1;33m=\u001b[0m \u001b[1;36m0\u001b[0m\u001b[1;33m\u001b[0m\u001b[0m\n\u001b[0;32m     18\u001b[0m \u001b[0msign\u001b[0m \u001b[1;33m=\u001b[0m \u001b[1;36m1\u001b[0m\u001b[1;33m\u001b[0m\u001b[0m\n",
      "\u001b[1;31mTypeError\u001b[0m: object() takes no parameters"
     ]
    }
   ],
   "source": [
    "def cordic_exp(phase, phase_lut):\n",
    "    y = 0\n",
    "    x = 1 / 1.646760\n",
    "    for i, adj in enumerate(phase_lut):\n",
    "        sign = -1 if phase < 0 else 1\n",
    "        x, y, phase = x - sign * (y * (2 ** -i)), y + sign * (x * (2 ** -i)), phase - sign * adj\n",
    "\n",
    "    return x + 1j * y\n",
    "\n",
    "cordic_len = 18\n",
    "phase_lut = [np.arctan(2 ** -i) for i in range(cordic_len)]\n",
    "\n",
    "phase_incremet = 2*np.pi*freq / fs\n",
    "from hwpy.common.cordic import CORDIC\n",
    "\n",
    "lol = CORDIC(18)\n",
    "ph = 0\n",
    "sign = 1\n",
    "res = []\n",
    "for x in range(int(fs*periods)):\n",
    "    ph += phase_incremet\n",
    "    if ph > np.pi/2: # cordic only works from -pi/2 to pi/2\n",
    "        ph -= np.pi \n",
    "        sign *= -1 # need to sign invert 2,3 quadrant\n",
    "\n",
    "    res.append(sign * cordic_exp(ph, phase_lut))\n",
    "\n",
    "plt.plot([x.real for x in res])\n",
    "plt.plot([x.imag for x in res])\n",
    "plt.show()\n",
    "    "
   ]
  },
  {
   "cell_type": "markdown",
   "metadata": {},
   "source": [
    "# Compare"
   ]
  },
  {
   "cell_type": "code",
   "execution_count": null,
   "metadata": {
    "collapsed": false
   },
   "outputs": [],
   "source": [
    "np.testing.assert_almost_equal(res[:-1], ref[1:], decimal=5)"
   ]
  },
  {
   "cell_type": "markdown",
   "metadata": {},
   "source": [
    "Numpy and CORDIC results is time shifted in one sample, why??"
   ]
  }
 ],
 "metadata": {
  "kernelspec": {
   "display_name": "Python 3",
   "language": "python",
   "name": "python3"
  },
  "language_info": {
   "codemirror_mode": {
    "name": "ipython",
    "version": 3
   },
   "file_extension": ".py",
   "mimetype": "text/x-python",
   "name": "python",
   "nbconvert_exporter": "python",
   "pygments_lexer": "ipython3",
   "version": "3.5.1"
  }
 },
 "nbformat": 4,
 "nbformat_minor": 0
}
